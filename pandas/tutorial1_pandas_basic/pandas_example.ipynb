{
 "cells": [
  {
   "cell_type": "code",
   "execution_count": 46,
   "metadata": {
    "collapsed": true
   },
   "outputs": [],
   "source": [
    "# function 介紹 http://rickchungtw-blog.logdown.com/posts/686802"
   ]
  },
  {
   "cell_type": "code",
   "execution_count": 47,
   "metadata": {
    "collapsed": true
   },
   "outputs": [],
   "source": [
    "# 匯入library 簡稱為pd\n",
    "import pandas as pd"
   ]
  },
  {
   "cell_type": "code",
   "execution_count": 48,
   "metadata": {
    "collapsed": true
   },
   "outputs": [],
   "source": [
    "# df => dataframe\n",
    "# pd => pandas library 的簡稱\n",
    "df = pd.read_excel(\"tutorial.xlsx\", encoding = \"utf8\")\n"
   ]
  },
  {
   "cell_type": "code",
   "execution_count": 49,
   "metadata": {
    "collapsed": false
   },
   "outputs": [
    {
     "data": {
      "text/html": [
       "<div>\n",
       "<table border=\"1\" class=\"dataframe\">\n",
       "  <thead>\n",
       "    <tr style=\"text-align: right;\">\n",
       "      <th></th>\n",
       "      <th>誰買的</th>\n",
       "      <th>原味內褲</th>\n",
       "      <th>黑糖</th>\n",
       "      <th>梅子</th>\n",
       "      <th>煉乳</th>\n",
       "      <th>芝麻</th>\n",
       "      <th>海苔</th>\n",
       "      <th>無糖</th>\n",
       "      <th>鳳梨</th>\n",
       "      <th>桑葚</th>\n",
       "      <th>辣味</th>\n",
       "      <th>芥末</th>\n",
       "      <th>胡椒</th>\n",
       "      <th>洛神經病(估計不會有)</th>\n",
       "      <th>咖啡牛奶子</th>\n",
       "    </tr>\n",
       "  </thead>\n",
       "  <tbody>\n",
       "    <tr>\n",
       "      <th>0</th>\n",
       "      <td>偷比</td>\n",
       "      <td>NaN</td>\n",
       "      <td>1.0</td>\n",
       "      <td>3.0</td>\n",
       "      <td>NaN</td>\n",
       "      <td>NaN</td>\n",
       "      <td>NaN</td>\n",
       "      <td>NaN</td>\n",
       "      <td>NaN</td>\n",
       "      <td>NaN</td>\n",
       "      <td>NaN</td>\n",
       "      <td>2.0</td>\n",
       "      <td>NaN</td>\n",
       "      <td>NaN</td>\n",
       "      <td>NaN</td>\n",
       "    </tr>\n",
       "    <tr>\n",
       "      <th>1</th>\n",
       "      <td>乾哥</td>\n",
       "      <td>NaN</td>\n",
       "      <td>3.0</td>\n",
       "      <td>5.0</td>\n",
       "      <td>1.0</td>\n",
       "      <td>NaN</td>\n",
       "      <td>NaN</td>\n",
       "      <td>NaN</td>\n",
       "      <td>NaN</td>\n",
       "      <td>3.0</td>\n",
       "      <td>NaN</td>\n",
       "      <td>2.0</td>\n",
       "      <td>NaN</td>\n",
       "      <td>NaN</td>\n",
       "      <td>NaN</td>\n",
       "    </tr>\n",
       "    <tr>\n",
       "      <th>2</th>\n",
       "      <td>喇叭</td>\n",
       "      <td>NaN</td>\n",
       "      <td>NaN</td>\n",
       "      <td>NaN</td>\n",
       "      <td>2.0</td>\n",
       "      <td>NaN</td>\n",
       "      <td>NaN</td>\n",
       "      <td>NaN</td>\n",
       "      <td>NaN</td>\n",
       "      <td>1.0</td>\n",
       "      <td>NaN</td>\n",
       "      <td>NaN</td>\n",
       "      <td>NaN</td>\n",
       "      <td>NaN</td>\n",
       "      <td>1.0</td>\n",
       "    </tr>\n",
       "  </tbody>\n",
       "</table>\n",
       "</div>"
      ],
      "text/plain": [
       "  誰買的  原味內褲   黑糖   梅子   煉乳  芝麻  海苔  無糖  鳳梨   桑葚  辣味   芥末  胡椒  洛神經病(估計不會有)  \\\n",
       "0  偷比   NaN  1.0  3.0  NaN NaN NaN NaN NaN  NaN NaN  2.0 NaN          NaN   \n",
       "1  乾哥   NaN  3.0  5.0  1.0 NaN NaN NaN NaN  3.0 NaN  2.0 NaN          NaN   \n",
       "2  喇叭   NaN  NaN  NaN  2.0 NaN NaN NaN NaN  1.0 NaN  NaN NaN          NaN   \n",
       "\n",
       "   咖啡牛奶子  \n",
       "0    NaN  \n",
       "1    NaN  \n",
       "2    1.0  "
      ]
     },
     "execution_count": 49,
     "metadata": {},
     "output_type": "execute_result"
    }
   ],
   "source": [
    "df"
   ]
  },
  {
   "cell_type": "code",
   "execution_count": 50,
   "metadata": {
    "collapsed": false
   },
   "outputs": [
    {
     "name": "stdout",
     "output_type": "stream",
     "text": [
      "RangeIndex(start=0, stop=3, step=1)\n"
     ]
    }
   ],
   "source": [
    "print(df.index) "
   ]
  },
  {
   "cell_type": "code",
   "execution_count": 51,
   "metadata": {
    "collapsed": false
   },
   "outputs": [
    {
     "name": "stdout",
     "output_type": "stream",
     "text": [
      "Index(['誰買的', '原味內褲', '黑糖', '梅子', '煉乳', '芝麻', '海苔', '無糖', '鳳梨', '桑葚', '辣味',\n",
      "       '芥末', '胡椒', '洛神經病(估計不會有)', '咖啡牛奶子'],\n",
      "      dtype='object')\n"
     ]
    }
   ],
   "source": [
    "print(df.columns)       # 列出每一個 column 的標頭\n"
   ]
  },
  {
   "cell_type": "code",
   "execution_count": 52,
   "metadata": {
    "collapsed": false
   },
   "outputs": [
    {
     "name": "stdout",
     "output_type": "stream",
     "text": [
      "[['偷比' nan 1.0 3.0 nan nan nan nan nan nan nan 2.0 nan nan nan]\n",
      " ['乾哥' nan 3.0 5.0 1.0 nan nan nan nan 3.0 nan 2.0 nan nan nan]\n",
      " ['喇叭' nan nan nan 2.0 nan nan nan nan 1.0 nan nan nan nan 1.0]]\n"
     ]
    }
   ],
   "source": [
    "print(df.values) "
   ]
  },
  {
   "cell_type": "code",
   "execution_count": 53,
   "metadata": {
    "collapsed": false
   },
   "outputs": [
    {
     "name": "stdout",
     "output_type": "stream",
     "text": [
      "       原味內褲        黑糖        梅子        煉乳   芝麻   海苔   無糖   鳳梨        桑葚   辣味  \\\n",
      "count   0.0  2.000000  2.000000  2.000000  0.0  0.0  0.0  0.0  2.000000  0.0   \n",
      "mean    NaN  2.000000  4.000000  1.500000  NaN  NaN  NaN  NaN  2.000000  NaN   \n",
      "std     NaN  1.414214  1.414214  0.707107  NaN  NaN  NaN  NaN  1.414214  NaN   \n",
      "min     NaN  1.000000  3.000000  1.000000  NaN  NaN  NaN  NaN  1.000000  NaN   \n",
      "25%     NaN       NaN       NaN       NaN  NaN  NaN  NaN  NaN       NaN  NaN   \n",
      "50%     NaN       NaN       NaN       NaN  NaN  NaN  NaN  NaN       NaN  NaN   \n",
      "75%     NaN       NaN       NaN       NaN  NaN  NaN  NaN  NaN       NaN  NaN   \n",
      "max     NaN  3.000000  5.000000  2.000000  NaN  NaN  NaN  NaN  3.000000  NaN   \n",
      "\n",
      "        芥末   胡椒  洛神經病(估計不會有)  咖啡牛奶子  \n",
      "count  2.0  0.0          0.0    1.0  \n",
      "mean   2.0  NaN          NaN    1.0  \n",
      "std    0.0  NaN          NaN    NaN  \n",
      "min    2.0  NaN          NaN    1.0  \n",
      "25%    NaN  NaN          NaN    NaN  \n",
      "50%    NaN  NaN          NaN    NaN  \n",
      "75%    NaN  NaN          NaN    NaN  \n",
      "max    2.0  NaN          NaN    1.0  \n"
     ]
    },
    {
     "name": "stderr",
     "output_type": "stream",
     "text": [
      "c:\\users\\xiao\\appdata\\local\\programs\\python\\python35\\lib\\site-packages\\numpy\\lib\\function_base.py:3834: RuntimeWarning: Invalid value encountered in percentile\n",
      "  RuntimeWarning)\n"
     ]
    }
   ],
   "source": [
    "print(df.describe())  "
   ]
  },
  {
   "cell_type": "code",
   "execution_count": 54,
   "metadata": {
    "collapsed": false
   },
   "outputs": [
    {
     "data": {
      "text/html": [
       "<div>\n",
       "<table border=\"1\" class=\"dataframe\">\n",
       "  <thead>\n",
       "    <tr style=\"text-align: right;\">\n",
       "      <th></th>\n",
       "      <th>誰買的</th>\n",
       "      <th>原味內褲</th>\n",
       "      <th>黑糖</th>\n",
       "      <th>梅子</th>\n",
       "      <th>煉乳</th>\n",
       "      <th>芝麻</th>\n",
       "      <th>海苔</th>\n",
       "      <th>無糖</th>\n",
       "      <th>鳳梨</th>\n",
       "      <th>桑葚</th>\n",
       "      <th>辣味</th>\n",
       "      <th>芥末</th>\n",
       "      <th>胡椒</th>\n",
       "      <th>洛神經病(估計不會有)</th>\n",
       "      <th>咖啡牛奶子</th>\n",
       "    </tr>\n",
       "  </thead>\n",
       "  <tbody>\n",
       "    <tr>\n",
       "      <th>0</th>\n",
       "      <td>偷比</td>\n",
       "      <td>NaN</td>\n",
       "      <td>1.0</td>\n",
       "      <td>3.0</td>\n",
       "      <td>NaN</td>\n",
       "      <td>NaN</td>\n",
       "      <td>NaN</td>\n",
       "      <td>NaN</td>\n",
       "      <td>NaN</td>\n",
       "      <td>NaN</td>\n",
       "      <td>NaN</td>\n",
       "      <td>2.0</td>\n",
       "      <td>NaN</td>\n",
       "      <td>NaN</td>\n",
       "      <td>NaN</td>\n",
       "    </tr>\n",
       "    <tr>\n",
       "      <th>1</th>\n",
       "      <td>乾哥</td>\n",
       "      <td>NaN</td>\n",
       "      <td>3.0</td>\n",
       "      <td>5.0</td>\n",
       "      <td>1.0</td>\n",
       "      <td>NaN</td>\n",
       "      <td>NaN</td>\n",
       "      <td>NaN</td>\n",
       "      <td>NaN</td>\n",
       "      <td>3.0</td>\n",
       "      <td>NaN</td>\n",
       "      <td>2.0</td>\n",
       "      <td>NaN</td>\n",
       "      <td>NaN</td>\n",
       "      <td>NaN</td>\n",
       "    </tr>\n",
       "    <tr>\n",
       "      <th>2</th>\n",
       "      <td>喇叭</td>\n",
       "      <td>NaN</td>\n",
       "      <td>NaN</td>\n",
       "      <td>NaN</td>\n",
       "      <td>2.0</td>\n",
       "      <td>NaN</td>\n",
       "      <td>NaN</td>\n",
       "      <td>NaN</td>\n",
       "      <td>NaN</td>\n",
       "      <td>1.0</td>\n",
       "      <td>NaN</td>\n",
       "      <td>NaN</td>\n",
       "      <td>NaN</td>\n",
       "      <td>NaN</td>\n",
       "      <td>1.0</td>\n",
       "    </tr>\n",
       "  </tbody>\n",
       "</table>\n",
       "</div>"
      ],
      "text/plain": [
       "  誰買的  原味內褲   黑糖   梅子   煉乳  芝麻  海苔  無糖  鳳梨   桑葚  辣味   芥末  胡椒  洛神經病(估計不會有)  \\\n",
       "0  偷比   NaN  1.0  3.0  NaN NaN NaN NaN NaN  NaN NaN  2.0 NaN          NaN   \n",
       "1  乾哥   NaN  3.0  5.0  1.0 NaN NaN NaN NaN  3.0 NaN  2.0 NaN          NaN   \n",
       "2  喇叭   NaN  NaN  NaN  2.0 NaN NaN NaN NaN  1.0 NaN  NaN NaN          NaN   \n",
       "\n",
       "   咖啡牛奶子  \n",
       "0    NaN  \n",
       "1    NaN  \n",
       "2    1.0  "
      ]
     },
     "execution_count": 54,
     "metadata": {},
     "output_type": "execute_result"
    }
   ],
   "source": [
    "df\n"
   ]
  },
  {
   "cell_type": "code",
   "execution_count": 55,
   "metadata": {
    "collapsed": false
   },
   "outputs": [
    {
     "data": {
      "text/plain": [
       "0    1.0\n",
       "1    3.0\n",
       "2    NaN\n",
       "Name: 黑糖, dtype: float64"
      ]
     },
     "execution_count": 55,
     "metadata": {},
     "output_type": "execute_result"
    }
   ],
   "source": [
    "df['黑糖']         # 這樣會列出整個 DF 的 column '黑糖'"
   ]
  },
  {
   "cell_type": "code",
   "execution_count": 56,
   "metadata": {
    "collapsed": false
   },
   "outputs": [
    {
     "data": {
      "text/plain": [
       "0    4.0\n",
       "1    8.0\n",
       "2    NaN\n",
       "dtype: float64"
      ]
     },
     "execution_count": 56,
     "metadata": {},
     "output_type": "execute_result"
    }
   ],
   "source": [
    "df['黑糖'] + df['梅子']"
   ]
  },
  {
   "cell_type": "code",
   "execution_count": 57,
   "metadata": {
    "collapsed": false
   },
   "outputs": [
    {
     "data": {
      "text/html": [
       "<div>\n",
       "<table border=\"1\" class=\"dataframe\">\n",
       "  <thead>\n",
       "    <tr style=\"text-align: right;\">\n",
       "      <th></th>\n",
       "      <th>誰買的</th>\n",
       "      <th>原味內褲</th>\n",
       "      <th>黑糖</th>\n",
       "      <th>梅子</th>\n",
       "      <th>煉乳</th>\n",
       "      <th>芝麻</th>\n",
       "      <th>海苔</th>\n",
       "      <th>無糖</th>\n",
       "      <th>鳳梨</th>\n",
       "      <th>桑葚</th>\n",
       "      <th>辣味</th>\n",
       "      <th>芥末</th>\n",
       "      <th>胡椒</th>\n",
       "      <th>洛神經病(估計不會有)</th>\n",
       "      <th>咖啡牛奶子</th>\n",
       "    </tr>\n",
       "  </thead>\n",
       "  <tbody>\n",
       "    <tr>\n",
       "      <th>0</th>\n",
       "      <td>偷比</td>\n",
       "      <td>0.0</td>\n",
       "      <td>1.0</td>\n",
       "      <td>3.0</td>\n",
       "      <td>0.0</td>\n",
       "      <td>0.0</td>\n",
       "      <td>0.0</td>\n",
       "      <td>0.0</td>\n",
       "      <td>0.0</td>\n",
       "      <td>0.0</td>\n",
       "      <td>0.0</td>\n",
       "      <td>2.0</td>\n",
       "      <td>0.0</td>\n",
       "      <td>0.0</td>\n",
       "      <td>0.0</td>\n",
       "    </tr>\n",
       "    <tr>\n",
       "      <th>1</th>\n",
       "      <td>乾哥</td>\n",
       "      <td>0.0</td>\n",
       "      <td>3.0</td>\n",
       "      <td>5.0</td>\n",
       "      <td>1.0</td>\n",
       "      <td>0.0</td>\n",
       "      <td>0.0</td>\n",
       "      <td>0.0</td>\n",
       "      <td>0.0</td>\n",
       "      <td>3.0</td>\n",
       "      <td>0.0</td>\n",
       "      <td>2.0</td>\n",
       "      <td>0.0</td>\n",
       "      <td>0.0</td>\n",
       "      <td>0.0</td>\n",
       "    </tr>\n",
       "    <tr>\n",
       "      <th>2</th>\n",
       "      <td>喇叭</td>\n",
       "      <td>0.0</td>\n",
       "      <td>0.0</td>\n",
       "      <td>0.0</td>\n",
       "      <td>2.0</td>\n",
       "      <td>0.0</td>\n",
       "      <td>0.0</td>\n",
       "      <td>0.0</td>\n",
       "      <td>0.0</td>\n",
       "      <td>1.0</td>\n",
       "      <td>0.0</td>\n",
       "      <td>0.0</td>\n",
       "      <td>0.0</td>\n",
       "      <td>0.0</td>\n",
       "      <td>1.0</td>\n",
       "    </tr>\n",
       "  </tbody>\n",
       "</table>\n",
       "</div>"
      ],
      "text/plain": [
       "  誰買的  原味內褲   黑糖   梅子   煉乳   芝麻   海苔   無糖   鳳梨   桑葚   辣味   芥末   胡椒  \\\n",
       "0  偷比   0.0  1.0  3.0  0.0  0.0  0.0  0.0  0.0  0.0  0.0  2.0  0.0   \n",
       "1  乾哥   0.0  3.0  5.0  1.0  0.0  0.0  0.0  0.0  3.0  0.0  2.0  0.0   \n",
       "2  喇叭   0.0  0.0  0.0  2.0  0.0  0.0  0.0  0.0  1.0  0.0  0.0  0.0   \n",
       "\n",
       "   洛神經病(估計不會有)  咖啡牛奶子  \n",
       "0          0.0    0.0  \n",
       "1          0.0    0.0  \n",
       "2          0.0    1.0  "
      ]
     },
     "execution_count": 57,
     "metadata": {},
     "output_type": "execute_result"
    }
   ],
   "source": [
    "# 將nan轉為0  不然加總會為 nan \n",
    "df = df.fillna(0)\n",
    "df"
   ]
  },
  {
   "cell_type": "code",
   "execution_count": 58,
   "metadata": {
    "collapsed": false
   },
   "outputs": [
    {
     "name": "stdout",
     "output_type": "stream",
     "text": [
      "0 原味內褲 50\n",
      "1 黑糖 60\n",
      "2 梅子 70\n",
      "3 煉乳 80\n",
      "4 芝麻 90\n",
      "5 海苔 100\n",
      "6 無糖 110\n",
      "7 鳳梨 120\n",
      "8 桑葚 130\n",
      "9 辣味 140\n",
      "10 芥末 150\n",
      "11 胡椒 160\n",
      "12 洛神經病(估計不會有) 170\n",
      "13 咖啡牛奶子 180\n"
     ]
    }
   ],
   "source": [
    "# 設定每個品項的價錢\n",
    "# 假設每包價錢不同\n",
    "price_d = {}\n",
    "for index, i in enumerate(df.columns[1:]):\n",
    "        price_d[i] = (index+5) * 10\n",
    "        print(index, i, price_d[i])\n",
    "\n",
    "    # # print(price_d)"
   ]
  },
  {
   "cell_type": "code",
   "execution_count": 61,
   "metadata": {
    "collapsed": false
   },
   "outputs": [
    {
     "name": "stdout",
     "output_type": "stream",
     "text": [
      "咖啡牛奶子 180\n",
      "梅子 70\n",
      "辣味 140\n",
      "無糖 110\n",
      "黑糖 60\n",
      "芥末 150\n",
      "胡椒 160\n",
      "洛神經病(估計不會有) 170\n",
      "芝麻 90\n",
      "原味內褲 50\n",
      "桑葚 130\n",
      "海苔 100\n",
      "鳳梨 120\n",
      "煉乳 80\n"
     ]
    },
    {
     "data": {
      "text/html": [
       "<div>\n",
       "<table border=\"1\" class=\"dataframe\">\n",
       "  <thead>\n",
       "    <tr style=\"text-align: right;\">\n",
       "      <th></th>\n",
       "      <th>誰買的</th>\n",
       "      <th>原味內褲</th>\n",
       "      <th>黑糖</th>\n",
       "      <th>梅子</th>\n",
       "      <th>煉乳</th>\n",
       "      <th>芝麻</th>\n",
       "      <th>海苔</th>\n",
       "      <th>無糖</th>\n",
       "      <th>鳳梨</th>\n",
       "      <th>桑葚</th>\n",
       "      <th>辣味</th>\n",
       "      <th>芥末</th>\n",
       "      <th>胡椒</th>\n",
       "      <th>洛神經病(估計不會有)</th>\n",
       "      <th>咖啡牛奶子</th>\n",
       "      <th>total</th>\n",
       "    </tr>\n",
       "  </thead>\n",
       "  <tbody>\n",
       "    <tr>\n",
       "      <th>0</th>\n",
       "      <td>偷比</td>\n",
       "      <td>0.0</td>\n",
       "      <td>1.0</td>\n",
       "      <td>3.0</td>\n",
       "      <td>0.0</td>\n",
       "      <td>0.0</td>\n",
       "      <td>0.0</td>\n",
       "      <td>0.0</td>\n",
       "      <td>0.0</td>\n",
       "      <td>0.0</td>\n",
       "      <td>0.0</td>\n",
       "      <td>2.0</td>\n",
       "      <td>0.0</td>\n",
       "      <td>0.0</td>\n",
       "      <td>0.0</td>\n",
       "      <td>570.0</td>\n",
       "    </tr>\n",
       "    <tr>\n",
       "      <th>1</th>\n",
       "      <td>乾哥</td>\n",
       "      <td>0.0</td>\n",
       "      <td>3.0</td>\n",
       "      <td>5.0</td>\n",
       "      <td>1.0</td>\n",
       "      <td>0.0</td>\n",
       "      <td>0.0</td>\n",
       "      <td>0.0</td>\n",
       "      <td>0.0</td>\n",
       "      <td>3.0</td>\n",
       "      <td>0.0</td>\n",
       "      <td>2.0</td>\n",
       "      <td>0.0</td>\n",
       "      <td>0.0</td>\n",
       "      <td>0.0</td>\n",
       "      <td>1300.0</td>\n",
       "    </tr>\n",
       "    <tr>\n",
       "      <th>2</th>\n",
       "      <td>喇叭</td>\n",
       "      <td>0.0</td>\n",
       "      <td>0.0</td>\n",
       "      <td>0.0</td>\n",
       "      <td>2.0</td>\n",
       "      <td>0.0</td>\n",
       "      <td>0.0</td>\n",
       "      <td>0.0</td>\n",
       "      <td>0.0</td>\n",
       "      <td>1.0</td>\n",
       "      <td>0.0</td>\n",
       "      <td>0.0</td>\n",
       "      <td>0.0</td>\n",
       "      <td>0.0</td>\n",
       "      <td>1.0</td>\n",
       "      <td>470.0</td>\n",
       "    </tr>\n",
       "  </tbody>\n",
       "</table>\n",
       "</div>"
      ],
      "text/plain": [
       "  誰買的  原味內褲   黑糖   梅子   煉乳   芝麻   海苔   無糖   鳳梨   桑葚   辣味   芥末   胡椒  \\\n",
       "0  偷比   0.0  1.0  3.0  0.0  0.0  0.0  0.0  0.0  0.0  0.0  2.0  0.0   \n",
       "1  乾哥   0.0  3.0  5.0  1.0  0.0  0.0  0.0  0.0  3.0  0.0  2.0  0.0   \n",
       "2  喇叭   0.0  0.0  0.0  2.0  0.0  0.0  0.0  0.0  1.0  0.0  0.0  0.0   \n",
       "\n",
       "   洛神經病(估計不會有)  咖啡牛奶子   total  \n",
       "0          0.0    0.0   570.0  \n",
       "1          0.0    0.0  1300.0  \n",
       "2          0.0    1.0   470.0  "
      ]
     },
     "execution_count": 61,
     "metadata": {},
     "output_type": "execute_result"
    }
   ],
   "source": [
    "# 新建欄位\n",
    "df[\"total\"] = 0\n",
    "\n",
    "for key, value in price_d.items():\n",
    "    print(key, value)\n",
    "    df[\"total\"] += df[key] * value\n",
    "df"
   ]
  },
  {
   "cell_type": "code",
   "execution_count": 62,
   "metadata": {
    "collapsed": false
   },
   "outputs": [
    {
     "name": "stderr",
     "output_type": "stream",
     "text": [
      "c:\\users\\xiao\\appdata\\local\\programs\\python\\python35\\lib\\site-packages\\ipykernel\\__main__.py:2: FutureWarning: sort(columns=....) is deprecated, use sort_values(by=.....)\n",
      "  from ipykernel import kernelapp as app\n"
     ]
    },
    {
     "data": {
      "text/html": [
       "<div>\n",
       "<table border=\"1\" class=\"dataframe\">\n",
       "  <thead>\n",
       "    <tr style=\"text-align: right;\">\n",
       "      <th></th>\n",
       "      <th>誰買的</th>\n",
       "      <th>原味內褲</th>\n",
       "      <th>黑糖</th>\n",
       "      <th>梅子</th>\n",
       "      <th>煉乳</th>\n",
       "      <th>芝麻</th>\n",
       "      <th>海苔</th>\n",
       "      <th>無糖</th>\n",
       "      <th>鳳梨</th>\n",
       "      <th>桑葚</th>\n",
       "      <th>辣味</th>\n",
       "      <th>芥末</th>\n",
       "      <th>胡椒</th>\n",
       "      <th>洛神經病(估計不會有)</th>\n",
       "      <th>咖啡牛奶子</th>\n",
       "      <th>total</th>\n",
       "    </tr>\n",
       "  </thead>\n",
       "  <tbody>\n",
       "    <tr>\n",
       "      <th>1</th>\n",
       "      <td>乾哥</td>\n",
       "      <td>0.0</td>\n",
       "      <td>3.0</td>\n",
       "      <td>5.0</td>\n",
       "      <td>1.0</td>\n",
       "      <td>0.0</td>\n",
       "      <td>0.0</td>\n",
       "      <td>0.0</td>\n",
       "      <td>0.0</td>\n",
       "      <td>3.0</td>\n",
       "      <td>0.0</td>\n",
       "      <td>2.0</td>\n",
       "      <td>0.0</td>\n",
       "      <td>0.0</td>\n",
       "      <td>0.0</td>\n",
       "      <td>1300.0</td>\n",
       "    </tr>\n",
       "    <tr>\n",
       "      <th>0</th>\n",
       "      <td>偷比</td>\n",
       "      <td>0.0</td>\n",
       "      <td>1.0</td>\n",
       "      <td>3.0</td>\n",
       "      <td>0.0</td>\n",
       "      <td>0.0</td>\n",
       "      <td>0.0</td>\n",
       "      <td>0.0</td>\n",
       "      <td>0.0</td>\n",
       "      <td>0.0</td>\n",
       "      <td>0.0</td>\n",
       "      <td>2.0</td>\n",
       "      <td>0.0</td>\n",
       "      <td>0.0</td>\n",
       "      <td>0.0</td>\n",
       "      <td>570.0</td>\n",
       "    </tr>\n",
       "    <tr>\n",
       "      <th>2</th>\n",
       "      <td>喇叭</td>\n",
       "      <td>0.0</td>\n",
       "      <td>0.0</td>\n",
       "      <td>0.0</td>\n",
       "      <td>2.0</td>\n",
       "      <td>0.0</td>\n",
       "      <td>0.0</td>\n",
       "      <td>0.0</td>\n",
       "      <td>0.0</td>\n",
       "      <td>1.0</td>\n",
       "      <td>0.0</td>\n",
       "      <td>0.0</td>\n",
       "      <td>0.0</td>\n",
       "      <td>0.0</td>\n",
       "      <td>1.0</td>\n",
       "      <td>470.0</td>\n",
       "    </tr>\n",
       "  </tbody>\n",
       "</table>\n",
       "</div>"
      ],
      "text/plain": [
       "  誰買的  原味內褲   黑糖   梅子   煉乳   芝麻   海苔   無糖   鳳梨   桑葚   辣味   芥末   胡椒  \\\n",
       "1  乾哥   0.0  3.0  5.0  1.0  0.0  0.0  0.0  0.0  3.0  0.0  2.0  0.0   \n",
       "0  偷比   0.0  1.0  3.0  0.0  0.0  0.0  0.0  0.0  0.0  0.0  2.0  0.0   \n",
       "2  喇叭   0.0  0.0  0.0  2.0  0.0  0.0  0.0  0.0  1.0  0.0  0.0  0.0   \n",
       "\n",
       "   洛神經病(估計不會有)  咖啡牛奶子   total  \n",
       "1          0.0    0.0  1300.0  \n",
       "0          0.0    0.0   570.0  \n",
       "2          0.0    1.0   470.0  "
      ]
     },
     "execution_count": 62,
     "metadata": {},
     "output_type": "execute_result"
    }
   ],
   "source": [
    "# 最後依照某一列排序\n",
    "df = df.sort([\"total\"], ascending=False)\n",
    "df\n",
    "    "
   ]
  },
  {
   "cell_type": "code",
   "execution_count": 64,
   "metadata": {
    "collapsed": true
   },
   "outputs": [],
   "source": [
    "# 最後儲存檔案\n",
    "df.to_excel(\"處理完成的.xlsx\")\n"
   ]
  },
  {
   "cell_type": "code",
   "execution_count": null,
   "metadata": {
    "collapsed": true
   },
   "outputs": [],
   "source": []
  }
 ],
 "metadata": {
  "kernelspec": {
   "display_name": "Python 3",
   "language": "python",
   "name": "python3"
  },
  "language_info": {
   "codemirror_mode": {
    "name": "ipython",
    "version": 3
   },
   "file_extension": ".py",
   "mimetype": "text/x-python",
   "name": "python",
   "nbconvert_exporter": "python",
   "pygments_lexer": "ipython3",
   "version": "3.5.2"
  }
 },
 "nbformat": 4,
 "nbformat_minor": 0
}
